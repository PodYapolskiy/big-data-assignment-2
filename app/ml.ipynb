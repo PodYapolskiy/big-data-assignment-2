{
 "cells": [
  {
   "cell_type": "code",
   "execution_count": null,
   "id": "a56f46d6",
   "metadata": {},
   "outputs": [],
   "source": [
    "from rich import print\n",
    "from pyspark.sql import SparkSession\n",
    "import pyspark.sql.functions as F\n",
    "\n",
    "spark = (\n",
    "    SparkSession.builder.appName(\"BM25_Query\")\n",
    "    .config(\"spark.jars\", \"./spark-cassandra-connector.jar\")\n",
    "    .config(\"spark.cassandra.connection.host\", \"127.0.0.1\")\n",
    "    .getOrCreate()\n",
    ")"
   ]
  },
  {
   "cell_type": "code",
   "execution_count": 12,
   "id": "a1cd4205",
   "metadata": {},
   "outputs": [],
   "source": [
    "doc_stats = (\n",
    "    spark.read.format(\"org.apache.spark.sql.cassandra\")\n",
    "    .options(table=\"doc_stats\", keyspace=\"search\")\n",
    "    .load()\n",
    "    .select(F.col(\"doc_id\"), F.col(\"doc_title\"), F.col(\"doc_length\"))\n",
    ")"
   ]
  },
  {
   "cell_type": "code",
   "execution_count": 13,
   "id": "1932d03d",
   "metadata": {},
   "outputs": [
    {
     "name": "stdout",
     "output_type": "stream",
     "text": [
      "+--------+--------------------+----------+\n",
      "|  doc_id|           doc_title|doc_length|\n",
      "+--------+--------------------+----------+\n",
      "|25604523|BBC Knowledge (ma...|       110|\n",
      "|13114764|        BAO på turné|       396|\n",
      "|40782306|       B. Deniswaran|       247|\n",
      "| 2458143|              B road|        76|\n",
      "| 6729513|        B. J. Porter|       276|\n",
      "|62111958|   B.J. and the A.C.|       866|\n",
      "|50537017|        BA25 (album)|       243|\n",
      "|21654437|              BACPAC|       315|\n",
      "|32833925|         B. B. Davis|       396|\n",
      "|68461256|             BASIC-8|       993|\n",
      "|73920812|     B. J. Callaghan|       411|\n",
      "|11801169|BC Spartak Saint ...|       400|\n",
      "| 3611959|                 BCY|        24|\n",
      "|66827058|       B.L.E.S.S.E.D|        87|\n",
      "|15065816|                BAP1|       545|\n",
      "|14597703| B Sides and C Sides|        95|\n",
      "|35627419|    B-class lifeboat|        45|\n",
      "|10615081|        B. Kothakota|        72|\n",
      "|16869388|    B8 road (Cyprus)|        72|\n",
      "|  384414|            BBC UKTV|       547|\n",
      "+--------+--------------------+----------+\n",
      "only showing top 20 rows\n",
      "\n"
     ]
    }
   ],
   "source": [
    "doc_stats.show()"
   ]
  },
  {
   "cell_type": "code",
   "execution_count": 14,
   "id": "85bb9df8",
   "metadata": {},
   "outputs": [],
   "source": [
    "inv_index = (\n",
    "    spark.read.format(\"org.apache.spark.sql.cassandra\")\n",
    "    .options(table=\"inverted_index\", keyspace=\"search\")\n",
    "    .load()\n",
    "    .select(F.col(\"term\"), F.col(\"doc_id\"), F.col(\"tf\"))\n",
    ")"
   ]
  },
  {
   "cell_type": "code",
   "execution_count": 15,
   "id": "99d3f3a8",
   "metadata": {},
   "outputs": [
    {
     "name": "stdout",
     "output_type": "stream",
     "text": [
      "+------------+--------+---+\n",
      "|        term|  doc_id| tf|\n",
      "+------------+--------+---+\n",
      "|    rohinton|39297323|  1|\n",
      "|    spelling| 3160315|  1|\n",
      "|    spelling|17682449|  1|\n",
      "|    spelling|18849559|  1|\n",
      "|    spelling|19097751|  3|\n",
      "|    spelling|30838130|  3|\n",
      "|    spelling|62305198|  1|\n",
      "|     arabian|13453391|  1|\n",
      "|       aspel| 3226985|  1|\n",
      "|       aspel|18700118|  1|\n",
      "|       aspel|28444278|  1|\n",
      "|     rounder|44918624|  1|\n",
      "|     rounder|73587954|  1|\n",
      "|      herrin|39297323|  1|\n",
      "|       bulis| 3182741|  1|\n",
      "|       madam| 1604479|  1|\n",
      "|       madam|27475501|  3|\n",
      "|preprocessed|10875123|  1|\n",
      "|  palliative|  105391|  1|\n",
      "|  palliative| 9385717|  1|\n",
      "+------------+--------+---+\n",
      "only showing top 20 rows\n",
      "\n"
     ]
    }
   ],
   "source": [
    "inv_index.show()"
   ]
  },
  {
   "cell_type": "code",
   "execution_count": 16,
   "id": "69918b1d",
   "metadata": {},
   "outputs": [],
   "source": [
    "vocab = (\n",
    "    spark.read.format(\"org.apache.spark.sql.cassandra\")\n",
    "    .options(table=\"vocabulary\", keyspace=\"search\")\n",
    "    .load()\n",
    "    .select(F.col(\"term\"), F.col(\"df\"))\n",
    ")"
   ]
  },
  {
   "cell_type": "code",
   "execution_count": 17,
   "id": "12aa5b0f",
   "metadata": {},
   "outputs": [
    {
     "name": "stdout",
     "output_type": "stream",
     "text": [
      "+-----------+---+\n",
      "|       term| df|\n",
      "+-----------+---+\n",
      "|   karnatik|  1|\n",
      "|   snapshot|  3|\n",
      "|  reworking|  2|\n",
      "|        gip|  1|\n",
      "|      damir|  1|\n",
      "|     werner|  2|\n",
      "|    mashhad|  1|\n",
      "|  prompting|  7|\n",
      "| subbraayan|  1|\n",
      "|hydrophobic|  3|\n",
      "| nonenglish|  1|\n",
      "|   derailed|  1|\n",
      "|     molded|  1|\n",
      "|    brewham|  1|\n",
      "|     column| 17|\n",
      "|     tokuma|  1|\n",
      "|disaffected|  2|\n",
      "|    impairs|  1|\n",
      "|proposition|  2|\n",
      "|  inbavalli|  1|\n",
      "+-----------+---+\n",
      "only showing top 20 rows\n",
      "\n"
     ]
    }
   ],
   "source": [
    "vocab.show()"
   ]
  },
  {
   "cell_type": "code",
   "execution_count": 21,
   "id": "5b986902",
   "metadata": {},
   "outputs": [
    {
     "data": {
      "text/html": [
       "<pre style=\"white-space:pre;overflow-x:auto;line-height:normal;font-family:Menlo,'DejaVu Sans Mono',consolas,'Courier New',monospace\">N = <span style=\"color: #008080; text-decoration-color: #008080; font-weight: bold\">1000</span>\n",
       "avg_dl = <span style=\"color: #008080; text-decoration-color: #008080; font-weight: bold\">408.947</span>\n",
       "</pre>\n"
      ],
      "text/plain": [
       "N = \u001b[1;36m1000\u001b[0m\n",
       "avg_dl = \u001b[1;36m408.947\u001b[0m\n"
      ]
     },
     "metadata": {},
     "output_type": "display_data"
    }
   ],
   "source": [
    "N = doc_stats.count()\n",
    "avg_dl = doc_stats.agg(F.sum(\"doc_length\")).first()[0] / N\n",
    "\n",
    "print(f\"{N = }\\n{avg_dl = }\")"
   ]
  },
  {
   "cell_type": "code",
   "execution_count": 30,
   "id": "b8082325",
   "metadata": {},
   "outputs": [
    {
     "data": {
      "text/plain": [
       "['armstrong', 'moon', 'landing']"
      ]
     },
     "execution_count": 30,
     "metadata": {},
     "output_type": "execute_result"
    }
   ],
   "source": [
    "query_text = \"Armstrong moon landing\"\n",
    "query_terms = [term for term in query_text.lower().split() if term]\n",
    "\n",
    "query_terms"
   ]
  },
  {
   "cell_type": "markdown",
   "id": "05ab57ba",
   "metadata": {},
   "source": [
    "#### Filter the inverted index for query terms only.\n"
   ]
  },
  {
   "cell_type": "code",
   "execution_count": 40,
   "id": "012d587a",
   "metadata": {},
   "outputs": [
    {
     "name": "stderr",
     "output_type": "stream",
     "text": [
      "25/04/20 13:28:10 WARN CqlRequestHandler: Query '[3 values] SELECT count(*) FROM search.inverted_index WHERE \"term\" IN (?, ?, ?)   ALLOW FILTERING [term='armstrong', term='moon', term='landing']' generated server side warning(s): Aggregation query used on multiple partition keys (IN restriction)\n"
     ]
    },
    {
     "data": {
      "text/html": [
       "<pre style=\"white-space:pre;overflow-x:auto;line-height:normal;font-family:Menlo,'DejaVu Sans Mono',consolas,'Courier New',monospace\"><span style=\"color: #008080; text-decoration-color: #008080; font-weight: bold\">38</span>\n",
       "</pre>\n"
      ],
      "text/plain": [
       "\u001b[1;36m38\u001b[0m\n"
      ]
     },
     "metadata": {},
     "output_type": "display_data"
    },
    {
     "name": "stdout",
     "output_type": "stream",
     "text": [
      "+---------+--------+---+\n",
      "|     term|  doc_id| tf|\n",
      "+---------+--------+---+\n",
      "|armstrong|  322487| 16|\n",
      "|armstrong| 3061257|  1|\n",
      "|armstrong| 3160315|  1|\n",
      "|armstrong| 9237209|  1|\n",
      "|armstrong| 9278580|  1|\n",
      "|armstrong|14597703|  1|\n",
      "|armstrong|33244357|  1|\n",
      "|armstrong|34832338|  1|\n",
      "|armstrong|70547608|  2|\n",
      "|  landing|  336647|  1|\n",
      "|  landing|  451011|  1|\n",
      "|  landing| 1467695|  1|\n",
      "|  landing| 3395088|  5|\n",
      "|  landing| 4082240|  1|\n",
      "|  landing|13495191|  1|\n",
      "|  landing|18226518|  1|\n",
      "|  landing|67323043|  1|\n",
      "|     moon|  171049|  1|\n",
      "|     moon|  931899|  2|\n",
      "|     moon| 1235674|  1|\n",
      "+---------+--------+---+\n",
      "only showing top 20 rows\n",
      "\n"
     ]
    }
   ],
   "source": [
    "query_index = inv_index.filter(F.col(\"term\").isin(query_terms))\n",
    "print(query_index.count())\n",
    "query_index.show()"
   ]
  },
  {
   "cell_type": "markdown",
   "id": "fa1de9ac",
   "metadata": {},
   "source": [
    "#### Join with vocabulary table to get df for each term.\n"
   ]
  },
  {
   "cell_type": "code",
   "execution_count": 41,
   "id": "d0809f68",
   "metadata": {},
   "outputs": [
    {
     "data": {
      "text/html": [
       "<pre style=\"white-space:pre;overflow-x:auto;line-height:normal;font-family:Menlo,'DejaVu Sans Mono',consolas,'Courier New',monospace\"><span style=\"color: #008080; text-decoration-color: #008080; font-weight: bold\">38</span>\n",
       "</pre>\n"
      ],
      "text/plain": [
       "\u001b[1;36m38\u001b[0m\n"
      ]
     },
     "metadata": {},
     "output_type": "display_data"
    },
    {
     "name": "stdout",
     "output_type": "stream",
     "text": [
      "+---------+--------+---+---+\n",
      "|     term|  doc_id| tf| df|\n",
      "+---------+--------+---+---+\n",
      "|     moon|  171049|  1| 21|\n",
      "|     moon|  931899|  2| 21|\n",
      "|     moon| 1235674|  1| 21|\n",
      "|     moon| 1604479|  1| 21|\n",
      "|  landing|  336647|  1|  8|\n",
      "|  landing|  451011|  1|  8|\n",
      "|  landing| 1467695|  1|  8|\n",
      "|  landing| 3395088|  5|  8|\n",
      "|  landing| 4082240|  1|  8|\n",
      "|  landing|13495191|  1|  8|\n",
      "|  landing|18226518|  1|  8|\n",
      "|  landing|67323043|  1|  8|\n",
      "|armstrong|  322487| 16|  9|\n",
      "|armstrong| 3061257|  1|  9|\n",
      "|armstrong| 3160315|  1|  9|\n",
      "|armstrong| 9237209|  1|  9|\n",
      "|armstrong| 9278580|  1|  9|\n",
      "|armstrong|14597703|  1|  9|\n",
      "|armstrong|33244357|  1|  9|\n",
      "|armstrong|34832338|  1|  9|\n",
      "+---------+--------+---+---+\n",
      "only showing top 20 rows\n",
      "\n"
     ]
    }
   ],
   "source": [
    "query_index = query_index.join(vocab, on=\"term\", how=\"left\")\n",
    "print(query_index.count())\n",
    "query_index.show()"
   ]
  },
  {
   "cell_type": "markdown",
   "id": "ae25311e",
   "metadata": {},
   "source": [
    "#### Join with doc_stats to get document lengths and titles.\n"
   ]
  },
  {
   "cell_type": "code",
   "execution_count": 42,
   "id": "064fed7f",
   "metadata": {},
   "outputs": [
    {
     "data": {
      "text/html": [
       "<pre style=\"white-space:pre;overflow-x:auto;line-height:normal;font-family:Menlo,'DejaVu Sans Mono',consolas,'Courier New',monospace\"><span style=\"color: #008080; text-decoration-color: #008080; font-weight: bold\">38</span>\n",
       "</pre>\n"
      ],
      "text/plain": [
       "\u001b[1;36m38\u001b[0m\n"
      ]
     },
     "metadata": {},
     "output_type": "display_data"
    },
    {
     "name": "stdout",
     "output_type": "stream",
     "text": [
      "+--------+---------+---+---+--------------------+----------+\n",
      "|  doc_id|     term| tf| df|           doc_title|doc_length|\n",
      "+--------+---------+---+---+--------------------+----------+\n",
      "| 1467695|  landing|  1|  8|   BBC controversies|      7370|\n",
      "| 4082240|  landing|  1|  8|BBC Allied Expedi...|       213|\n",
      "| 9278580|armstrong|  1|  9|BC Junior A Lacro...|       622|\n",
      "|13495191|  landing|  1|  8|         B. G. Henry|       563|\n",
      "|67323043|  landing|  1|  8|       B&D Australia|       219|\n",
      "| 9237209|armstrong|  1|  9|BAFTA Award for O...|      2604|\n",
      "|70547608|armstrong|  2|  9|BBC's 100 Greates...|      1095|\n",
      "|34832338|armstrong|  1|  9|BAFTA Award for B...|      1311|\n",
      "|  171049|     moon|  1| 21|        B. J. Thomas|       855|\n",
      "| 3160315|armstrong|  1|  9|         BBC Weather|       987|\n",
      "|14597703|armstrong|  1|  9| B Sides and C Sides|        95|\n",
      "|  451011|  landing|  1|  8|B-17, Queen of th...|       576|\n",
      "| 1235674|     moon|  1| 21|BAFTA Award for B...|      4094|\n",
      "| 1604479|     moon|  1| 21|             BD Wong|      1582|\n",
      "| 3061257|armstrong|  1|  9|       BBC Breakfast|      2484|\n",
      "|18226518|  landing|  1|  8|BAE Systems Marit...|      1257|\n",
      "|33244357|armstrong|  1|  9|         B InTune TV|      1227|\n",
      "|  322487|armstrong| 16|  9|     B. J. Armstrong|       525|\n",
      "|  336647|  landing|  1|  8|             BC Rail|      2960|\n",
      "| 3395088|  landing|  5|  8|            B-Dienst|      8983|\n",
      "+--------+---------+---+---+--------------------+----------+\n",
      "only showing top 20 rows\n",
      "\n"
     ]
    }
   ],
   "source": [
    "query_index = query_index.join(doc_stats, on=\"doc_id\", how=\"left\")\n",
    "print(query_index.count())\n",
    "query_index.show()"
   ]
  },
  {
   "cell_type": "markdown",
   "id": "501a7b4b",
   "metadata": {},
   "source": [
    "## BM25\n"
   ]
  },
  {
   "cell_type": "code",
   "execution_count": 44,
   "id": "716c77c9",
   "metadata": {},
   "outputs": [],
   "source": [
    "import math\n",
    "\n",
    "\n",
    "def compute_bm25(\n",
    "    tf: int,\n",
    "    df: int,\n",
    "    doc_length: int,\n",
    "    avg_dl: float,\n",
    "    N: int,\n",
    "    k1:float = 1.0,\n",
    "    b:float = 0.75\n",
    ") -> float:\n",
    "    # BM25 score for one term in one document:\n",
    "    # BM25 = log((N - df + 0.5)/(df + 0.5)) * ((tf * (k1 + 1)) / (tf + k1 * ((1 - b) + b*(doc_length/avg_dl))))\n",
    "    idf = math.log((N - df + 0.5) / (df + 0.5))\n",
    "    numerator = tf * (k1 + 1)\n",
    "    denominator = tf + k1 * ((1 - b) + b * (doc_length / avg_dl))\n",
    "    return idf * (numerator / denominator)"
   ]
  },
  {
   "cell_type": "code",
   "execution_count": 45,
   "id": "4e235209",
   "metadata": {},
   "outputs": [],
   "source": [
    "from pyspark.sql.functions import udf\n",
    "from pyspark.sql.types import FloatType\n",
    "\n",
    "\n",
    "def bm25_udf(\n",
    "    k1: float,\n",
    "    b: float,\n",
    "    avg_dl: float,\n",
    "    N: int\n",
    "):\n",
    "    return udf(\n",
    "        lambda tf, df, doc_length: (\n",
    "            float(\n",
    "                math.log((N - df + 0.5) / (df + 0.5))\n",
    "                * ((tf * (k1 + 1)) / (tf + k1 * ((1 - b) + b * (doc_length / avg_dl))))\n",
    "            )\n",
    "            if tf is not None and df is not None and doc_length is not None\n",
    "            else 0.0\n",
    "        ),\n",
    "        FloatType(),\n",
    "    )"
   ]
  },
  {
   "cell_type": "markdown",
   "id": "d15c3d48",
   "metadata": {},
   "source": [
    "#### Register the BM25 UDF"
   ]
  },
  {
   "cell_type": "code",
   "execution_count": 46,
   "id": "5343eff7",
   "metadata": {},
   "outputs": [],
   "source": [
    "k1 = 1.0\n",
    "b = 0.75\n",
    "bm25 = bm25_udf(k1, b, avg_dl, N)"
   ]
  },
  {
   "cell_type": "code",
   "execution_count": 47,
   "id": "707e6a56",
   "metadata": {},
   "outputs": [
    {
     "data": {
      "text/html": [
       "<pre style=\"white-space:pre;overflow-x:auto;line-height:normal;font-family:Menlo,'DejaVu Sans Mono',consolas,'Courier New',monospace\"><span style=\"color: #008080; text-decoration-color: #008080; font-weight: bold\">38</span>\n",
       "</pre>\n"
      ],
      "text/plain": [
       "\u001b[1;36m38\u001b[0m\n"
      ]
     },
     "metadata": {},
     "output_type": "display_data"
    },
    {
     "name": "stdout",
     "output_type": "stream",
     "text": [
      "+--------+---------+---+---+--------------------+----------+----------+\n",
      "|  doc_id|     term| tf| df|           doc_title|doc_length|      bm25|\n",
      "+--------+---------+---+---+--------------------+----------+----------+\n",
      "| 1467695|  landing|  1|  8|   BBC controversies|      7370|0.64472777|\n",
      "| 4082240|  landing|  1|  8|BBC Allied Expedi...|       213|  5.802819|\n",
      "| 9278580|armstrong|  1|  9|BC Junior A Lacro...|       622| 3.8882837|\n",
      "|13495191|  landing|  1|  8|         B. G. Henry|       563| 4.1709514|\n",
      "|67323043|  landing|  1|  8|       B&D Australia|       219| 5.7641582|\n",
      "| 9237209|armstrong|  1|  9|BAFTA Award for O...|      2604| 1.5427063|\n",
      "|70547608|armstrong|  2|  9|BBC's 100 Greates...|      1095|  4.366089|\n",
      "|34832338|armstrong|  1|  9|BAFTA Award for B...|      1311| 2.5437808|\n",
      "|  171049|     moon|  1| 21|        B. J. Thomas|       855| 2.7103758|\n",
      "| 3160315|armstrong|  1|  9|         BBC Weather|       987| 3.0377252|\n",
      "|14597703|armstrong|  1|  9| B Sides and C Sides|        95| 6.5269427|\n",
      "|  451011|  landing|  1|  8|B-17, Queen of th...|       576| 4.1278353|\n",
      "| 1235674|     moon|  1| 21|BAFTA Award for B...|      4094|0.87208384|\n",
      "| 1604479|     moon|  1| 21|             BD Wong|      1582| 1.8398765|\n",
      "| 3061257|armstrong|  1|  9|       BBC Breakfast|      2484| 1.6011869|\n",
      "|18226518|  landing|  1|  8|BAE Systems Marit...|      1257| 2.6777747|\n",
      "|33244357|armstrong|  1|  9|         B InTune TV|      1227| 2.6557372|\n",
      "|  322487|armstrong| 16|  9|     B. J. Armstrong|       525|  8.640857|\n",
      "|  336647|  landing|  1|  8|             BC Rail|      2960| 1.4255017|\n",
      "| 3395088|  landing|  5|  8|            B-Dienst|      8983| 2.1911356|\n",
      "+--------+---------+---+---+--------------------+----------+----------+\n",
      "only showing top 20 rows\n",
      "\n"
     ]
    },
    {
     "name": "stderr",
     "output_type": "stream",
     "text": [
      "                                                                                \r"
     ]
    }
   ],
   "source": [
    "query_index = query_index.withColumn(\n",
    "    \"bm25\", bm25(F.col(\"tf\"), F.col(\"df\"), F.col(\"doc_length\"))\n",
    ")\n",
    "print(query_index.count())\n",
    "query_index.show()"
   ]
  },
  {
   "cell_type": "markdown",
   "id": "e89a33c7",
   "metadata": {},
   "source": [
    "#### Sum the BM25 score for each document (if more than one query term matches)"
   ]
  },
  {
   "cell_type": "code",
   "execution_count": 48,
   "id": "855c3439",
   "metadata": {},
   "outputs": [
    {
     "data": {
      "text/html": [
       "<pre style=\"white-space:pre;overflow-x:auto;line-height:normal;font-family:Menlo,'DejaVu Sans Mono',consolas,'Courier New',monospace\"><span style=\"color: #008080; text-decoration-color: #008080; font-weight: bold\">36</span>\n",
       "</pre>\n"
      ],
      "text/plain": [
       "\u001b[1;36m36\u001b[0m\n"
      ]
     },
     "metadata": {},
     "output_type": "display_data"
    },
    {
     "name": "stdout",
     "output_type": "stream",
     "text": [
      "+--------+--------------------+------------------+\n",
      "|  doc_id|           doc_title|        bm25_score|\n",
      "+--------+--------------------+------------------+\n",
      "|  171049|        B. J. Thomas|2.7103757858276367|\n",
      "| 3061257|       BBC Breakfast|1.6011868715286255|\n",
      "|62288674|         BDC (group)| 6.724920749664307|\n",
      "| 1235674|BAFTA Award for B...| 0.872083842754364|\n",
      "|  336647|             BC Rail|1.4255017042160034|\n",
      "| 5301416|BBC Radio 1's Big...|0.7367796301841736|\n",
      "| 7547396|              BAR 01| 3.915747880935669|\n",
      "|14597703| B Sides and C Sides| 6.526942729949951|\n",
      "| 1467695|   BBC controversies|0.6447277665138245|\n",
      "| 9385828|B movies since th...| 1.172965168952942|\n",
      "| 1604479|             BD Wong|1.8398765325546265|\n",
      "| 9237209|BAFTA Award for O...|2.8102774620056152|\n",
      "|13453391|BBC Studios Natur...|0.5210062861442566|\n",
      "|33244357|         B InTune TV|2.6557371616363525|\n",
      "|  322487|     B. J. Armstrong| 8.640856742858887|\n",
      "| 1607443|           B. Kliban|3.9869720935821533|\n",
      "|34832338|BAFTA Award for B...|  2.54378080368042|\n",
      "| 3160315|         BBC Weather|3.0377252101898193|\n",
      "| 9278580|BC Junior A Lacro...|3.8882837295532227|\n",
      "|  931899|           B. Traven|2.6006314754486084|\n",
      "+--------+--------------------+------------------+\n",
      "only showing top 20 rows\n",
      "\n"
     ]
    }
   ],
   "source": [
    "scores = (\n",
    "    query_index.groupBy(\"doc_id\", \"doc_title\")\n",
    "    .agg({\"bm25\": \"sum\"})\n",
    "    .withColumnRenamed(\"sum(bm25)\", \"bm25_score\")\n",
    ")\n",
    "print(scores.count())\n",
    "scores.show()"
   ]
  },
  {
   "cell_type": "markdown",
   "id": "4e62bce7",
   "metadata": {},
   "source": [
    "#### Retrieve top 10 documents by BM25 score"
   ]
  },
  {
   "cell_type": "code",
   "execution_count": 49,
   "id": "3bbddbc7",
   "metadata": {},
   "outputs": [
    {
     "data": {
      "text/html": [
       "<pre style=\"white-space:pre;overflow-x:auto;line-height:normal;font-family:Menlo,'DejaVu Sans Mono',consolas,'Courier New',monospace\"><span style=\"color: #008080; text-decoration-color: #008080; font-weight: bold\">10</span>\n",
       "</pre>\n"
      ],
      "text/plain": [
       "\u001b[1;36m10\u001b[0m\n"
      ]
     },
     "metadata": {},
     "output_type": "display_data"
    },
    {
     "name": "stdout",
     "output_type": "stream",
     "text": [
      "+--------+--------------------+------------------+\n",
      "|  doc_id|           doc_title|        bm25_score|\n",
      "+--------+--------------------+------------------+\n",
      "|67323043|       B&D Australia|10.388636112213135|\n",
      "|  322487|     B. J. Armstrong| 8.640856742858887|\n",
      "|62288674|         BDC (group)| 6.724920749664307|\n",
      "|14597703| B Sides and C Sides| 6.526942729949951|\n",
      "| 4082240|BBC Allied Expedi...| 5.802818775177002|\n",
      "|70547608|BBC's 100 Greates...|   4.3660888671875|\n",
      "|13495191|         B. G. Henry|4.1709513664245605|\n",
      "|  451011|B-17, Queen of th...| 4.127835273742676|\n",
      "| 1745369|B-Sides & Raritie...| 4.008989334106445|\n",
      "| 1607443|           B. Kliban|3.9869720935821533|\n",
      "+--------+--------------------+------------------+\n",
      "\n"
     ]
    }
   ],
   "source": [
    "top_docs = scores.orderBy(F.col(\"bm25_score\").desc()).limit(10)\n",
    "print(top_docs.count())\n",
    "top_docs.show()"
   ]
  },
  {
   "cell_type": "code",
   "execution_count": 58,
   "id": "8d8df28a",
   "metadata": {},
   "outputs": [
    {
     "data": {
      "text/html": [
       "<pre style=\"white-space:pre;overflow-x:auto;line-height:normal;font-family:Menlo,'DejaVu Sans Mono',consolas,'Courier New',monospace\">Query: Armstrong moon landing\n",
       "</pre>\n"
      ],
      "text/plain": [
       "Query: Armstrong moon landing\n"
      ]
     },
     "metadata": {},
     "output_type": "display_data"
    },
    {
     "data": {
      "text/html": [
       "<pre style=\"white-space:pre;overflow-x:auto;line-height:normal;font-family:Menlo,'DejaVu Sans Mono',consolas,'Courier New',monospace\">Top Documents <span style=\"font-weight: bold\">(</span>doc_id, title, BM25 score<span style=\"font-weight: bold\">)</span>:\n",
       "</pre>\n"
      ],
      "text/plain": [
       "Top Documents \u001b[1m(\u001b[0mdoc_id, title, BM25 score\u001b[1m)\u001b[0m:\n"
      ]
     },
     "metadata": {},
     "output_type": "display_data"
    },
    {
     "data": {
      "text/html": [
       "<pre style=\"white-space:pre;overflow-x:auto;line-height:normal;font-family:Menlo,'DejaVu Sans Mono',consolas,'Courier New',monospace\">        <span style=\"color: #008080; text-decoration-color: #008080; font-weight: bold\">67323043</span>        B&amp;D Australia                   <span style=\"color: #008080; text-decoration-color: #008080; font-weight: bold\">10.39</span>\n",
       "</pre>\n"
      ],
      "text/plain": [
       "        \u001b[1;36m67323043\u001b[0m        B&D Australia                   \u001b[1;36m10.39\u001b[0m\n"
      ]
     },
     "metadata": {},
     "output_type": "display_data"
    },
    {
     "data": {
      "text/html": [
       "<pre style=\"white-space:pre;overflow-x:auto;line-height:normal;font-family:Menlo,'DejaVu Sans Mono',consolas,'Courier New',monospace\">        <span style=\"color: #008080; text-decoration-color: #008080; font-weight: bold\">322487</span>          B. J. Armstrong                 <span style=\"color: #008080; text-decoration-color: #008080; font-weight: bold\">8.64</span>\n",
       "</pre>\n"
      ],
      "text/plain": [
       "        \u001b[1;36m322487\u001b[0m          B. J. Armstrong                 \u001b[1;36m8.64\u001b[0m\n"
      ]
     },
     "metadata": {},
     "output_type": "display_data"
    },
    {
     "data": {
      "text/html": [
       "<pre style=\"white-space:pre;overflow-x:auto;line-height:normal;font-family:Menlo,'DejaVu Sans Mono',consolas,'Courier New',monospace\">        <span style=\"color: #008080; text-decoration-color: #008080; font-weight: bold\">62288674</span>        BDC <span style=\"font-weight: bold\">(</span>group<span style=\"font-weight: bold\">)</span>                     <span style=\"color: #008080; text-decoration-color: #008080; font-weight: bold\">6.72</span>\n",
       "</pre>\n"
      ],
      "text/plain": [
       "        \u001b[1;36m62288674\u001b[0m        BDC \u001b[1m(\u001b[0mgroup\u001b[1m)\u001b[0m                     \u001b[1;36m6.72\u001b[0m\n"
      ]
     },
     "metadata": {},
     "output_type": "display_data"
    },
    {
     "data": {
      "text/html": [
       "<pre style=\"white-space:pre;overflow-x:auto;line-height:normal;font-family:Menlo,'DejaVu Sans Mono',consolas,'Courier New',monospace\">        <span style=\"color: #008080; text-decoration-color: #008080; font-weight: bold\">14597703</span>        B Sides and C Sides             <span style=\"color: #008080; text-decoration-color: #008080; font-weight: bold\">6.53</span>\n",
       "</pre>\n"
      ],
      "text/plain": [
       "        \u001b[1;36m14597703\u001b[0m        B Sides and C Sides             \u001b[1;36m6.53\u001b[0m\n"
      ]
     },
     "metadata": {},
     "output_type": "display_data"
    },
    {
     "data": {
      "text/html": [
       "<pre style=\"white-space:pre;overflow-x:auto;line-height:normal;font-family:Menlo,'DejaVu Sans Mono',consolas,'Courier New',monospace\">        <span style=\"color: #008080; text-decoration-color: #008080; font-weight: bold\">4082240</span>         BBC Allied Expeditionary Force  <span style=\"color: #008080; text-decoration-color: #008080; font-weight: bold\">5.80</span>\n",
       "</pre>\n"
      ],
      "text/plain": [
       "        \u001b[1;36m4082240\u001b[0m         BBC Allied Expeditionary Force  \u001b[1;36m5.80\u001b[0m\n"
      ]
     },
     "metadata": {},
     "output_type": "display_data"
    },
    {
     "data": {
      "text/html": [
       "<pre style=\"white-space:pre;overflow-x:auto;line-height:normal;font-family:Menlo,'DejaVu Sans Mono',consolas,'Courier New',monospace\">        <span style=\"color: #008080; text-decoration-color: #008080; font-weight: bold\">70547608</span>        BBC's <span style=\"color: #008080; text-decoration-color: #008080; font-weight: bold\">100</span> Greatest Television   <span style=\"color: #008080; text-decoration-color: #008080; font-weight: bold\">4.37</span>\n",
       "</pre>\n"
      ],
      "text/plain": [
       "        \u001b[1;36m70547608\u001b[0m        BBC's \u001b[1;36m100\u001b[0m Greatest Television   \u001b[1;36m4.37\u001b[0m\n"
      ]
     },
     "metadata": {},
     "output_type": "display_data"
    },
    {
     "data": {
      "text/html": [
       "<pre style=\"white-space:pre;overflow-x:auto;line-height:normal;font-family:Menlo,'DejaVu Sans Mono',consolas,'Courier New',monospace\">        <span style=\"color: #008080; text-decoration-color: #008080; font-weight: bold\">13495191</span>        B. G. Henry                     <span style=\"color: #008080; text-decoration-color: #008080; font-weight: bold\">4.17</span>\n",
       "</pre>\n"
      ],
      "text/plain": [
       "        \u001b[1;36m13495191\u001b[0m        B. G. Henry                     \u001b[1;36m4.17\u001b[0m\n"
      ]
     },
     "metadata": {},
     "output_type": "display_data"
    },
    {
     "data": {
      "text/html": [
       "<pre style=\"white-space:pre;overflow-x:auto;line-height:normal;font-family:Menlo,'DejaVu Sans Mono',consolas,'Courier New',monospace\">        <span style=\"color: #008080; text-decoration-color: #008080; font-weight: bold\">451011</span>          B-<span style=\"color: #008080; text-decoration-color: #008080; font-weight: bold\">17</span>, Queen of the Skies        <span style=\"color: #008080; text-decoration-color: #008080; font-weight: bold\">4.13</span>\n",
       "</pre>\n"
      ],
      "text/plain": [
       "        \u001b[1;36m451011\u001b[0m          B-\u001b[1;36m17\u001b[0m, Queen of the Skies        \u001b[1;36m4.13\u001b[0m\n"
      ]
     },
     "metadata": {},
     "output_type": "display_data"
    },
    {
     "data": {
      "text/html": [
       "<pre style=\"white-space:pre;overflow-x:auto;line-height:normal;font-family:Menlo,'DejaVu Sans Mono',consolas,'Courier New',monospace\">        <span style=\"color: #008080; text-decoration-color: #008080; font-weight: bold\">1745369</span>         B-Sides &amp; Rarities <span style=\"font-weight: bold\">(</span>Nick Cave   <span style=\"color: #008080; text-decoration-color: #008080; font-weight: bold\">4.01</span>\n",
       "</pre>\n"
      ],
      "text/plain": [
       "        \u001b[1;36m1745369\u001b[0m         B-Sides & Rarities \u001b[1m(\u001b[0mNick Cave   \u001b[1;36m4.01\u001b[0m\n"
      ]
     },
     "metadata": {},
     "output_type": "display_data"
    },
    {
     "data": {
      "text/html": [
       "<pre style=\"white-space:pre;overflow-x:auto;line-height:normal;font-family:Menlo,'DejaVu Sans Mono',consolas,'Courier New',monospace\">        <span style=\"color: #008080; text-decoration-color: #008080; font-weight: bold\">1607443</span>         B. Kliban                       <span style=\"color: #008080; text-decoration-color: #008080; font-weight: bold\">3.99</span>\n",
       "</pre>\n"
      ],
      "text/plain": [
       "        \u001b[1;36m1607443\u001b[0m         B. Kliban                       \u001b[1;36m3.99\u001b[0m\n"
      ]
     },
     "metadata": {},
     "output_type": "display_data"
    }
   ],
   "source": [
    "print(\"Query: \" + query_text)\n",
    "top = top_docs.collect()\n",
    "print(\"Top Documents (doc_id, title, BM25 score):\")\n",
    "for row in top:\n",
    "    print(\n",
    "        f\"\\t{row['doc_id']:<10}\\t{row['doc_title'][:30]:<25}\\t{row['bm25_score']:.2f}\"\n",
    "    )"
   ]
  },
  {
   "cell_type": "code",
   "execution_count": 59,
   "id": "0139e46c",
   "metadata": {},
   "outputs": [],
   "source": [
    "spark.stop()"
   ]
  }
 ],
 "metadata": {
  "kernelspec": {
   "display_name": ".env",
   "language": "python",
   "name": "python3"
  },
  "language_info": {
   "codemirror_mode": {
    "name": "ipython",
    "version": 3
   },
   "file_extension": ".py",
   "mimetype": "text/x-python",
   "name": "python",
   "nbconvert_exporter": "python",
   "pygments_lexer": "ipython3",
   "version": "3.8.20"
  }
 },
 "nbformat": 4,
 "nbformat_minor": 5
}
